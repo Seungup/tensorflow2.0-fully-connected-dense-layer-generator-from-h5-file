{
 "cells": [
  {
   "cell_type": "code",
   "execution_count": 1,
   "metadata": {},
   "outputs": [
    {
     "name": "stdout",
     "output_type": "stream",
     "text": [
      "2.0.0-dev20191002\n"
     ]
    }
   ],
   "source": [
    "from __future__ import absolute_import, division, print_function, unicode_literals\n",
    "\n",
    "!pip install -q tf-nightly-2.0-preview\n",
    "import tensorflow as tf\n",
    "from tensorflow import keras\n",
    "\n",
    "import numpy as np\n",
    "\n",
    "print(tf.__version__)"
   ]
  },
  {
   "cell_type": "code",
   "execution_count": 2,
   "metadata": {
    "scrolled": true
   },
   "outputs": [],
   "source": [
    "imdb = keras.datasets.imdb\n",
    "\n",
    "(train_data, train_labels), (test_data, test_labels) = imdb.load_data(num_words=10000)"
   ]
  },
  {
   "cell_type": "code",
   "execution_count": 3,
   "metadata": {},
   "outputs": [
    {
     "name": "stdout",
     "output_type": "stream",
     "text": [
      "훈련 샘플: 25000, 레이블: 25000\n"
     ]
    }
   ],
   "source": [
    "print(\"훈련 샘플: {}, 레이블: {}\".format(len(train_data), len(train_labels)))"
   ]
  },
  {
   "cell_type": "code",
   "execution_count": 4,
   "metadata": {},
   "outputs": [
    {
     "name": "stdout",
     "output_type": "stream",
     "text": [
      "[1, 14, 22, 16, 43, 530, 973, 1622, 1385, 65, 458, 4468, 66, 3941, 4, 173, 36, 256, 5, 25, 100, 43, 838, 112, 50, 670, 2, 9, 35, 480, 284, 5, 150, 4, 172, 112, 167, 2, 336, 385, 39, 4, 172, 4536, 1111, 17, 546, 38, 13, 447, 4, 192, 50, 16, 6, 147, 2025, 19, 14, 22, 4, 1920, 4613, 469, 4, 22, 71, 87, 12, 16, 43, 530, 38, 76, 15, 13, 1247, 4, 22, 17, 515, 17, 12, 16, 626, 18, 2, 5, 62, 386, 12, 8, 316, 8, 106, 5, 4, 2223, 5244, 16, 480, 66, 3785, 33, 4, 130, 12, 16, 38, 619, 5, 25, 124, 51, 36, 135, 48, 25, 1415, 33, 6, 22, 12, 215, 28, 77, 52, 5, 14, 407, 16, 82, 2, 8, 4, 107, 117, 5952, 15, 256, 4, 2, 7, 3766, 5, 723, 36, 71, 43, 530, 476, 26, 400, 317, 46, 7, 4, 2, 1029, 13, 104, 88, 4, 381, 15, 297, 98, 32, 2071, 56, 26, 141, 6, 194, 7486, 18, 4, 226, 22, 21, 134, 476, 26, 480, 5, 144, 30, 5535, 18, 51, 36, 28, 224, 92, 25, 104, 4, 226, 65, 16, 38, 1334, 88, 12, 16, 283, 5, 16, 4472, 113, 103, 32, 15, 16, 5345, 19, 178, 32]\n"
     ]
    }
   ],
   "source": [
    "print(train_data[0])"
   ]
  },
  {
   "cell_type": "code",
   "execution_count": 5,
   "metadata": {},
   "outputs": [
    {
     "data": {
      "text/plain": [
       "(218, 189)"
      ]
     },
     "execution_count": 5,
     "metadata": {},
     "output_type": "execute_result"
    }
   ],
   "source": [
    "len(train_data[0]), len(train_data[1])"
   ]
  },
  {
   "cell_type": "code",
   "execution_count": 6,
   "metadata": {},
   "outputs": [],
   "source": [
    "# 단어와 정수 인덱스를 매핑한 딕셔너리\n",
    "word_index = imdb.get_word_index()\n",
    "\n",
    "# 처음 몇 개 인덱스는 사전에 정의되어 있습니다\n",
    "word_index = {k:(v+3) for k,v in word_index.items()}\n",
    "word_index[\"<PAD>\"] = 0\n",
    "word_index[\"<START>\"] = 1\n",
    "word_index[\"<UNK>\"] = 2  # unknown\n",
    "word_index[\"<UNUSED>\"] = 3\n",
    "\n",
    "reverse_word_index = dict([(value, key) for (key, value) in word_index.items()])\n",
    "\n",
    "def decode_review(text):\n",
    "    return ' '.join([reverse_word_index.get(i, '?') for i in text])"
   ]
  },
  {
   "cell_type": "code",
   "execution_count": 7,
   "metadata": {},
   "outputs": [
    {
     "data": {
      "text/plain": [
       "\"<START> this film was just brilliant casting location scenery story direction everyone's really suited the part they played and you could just imagine being there robert <UNK> is an amazing actor and now the same being director <UNK> father came from the same scottish island as myself so i loved the fact there was a real connection with this film the witty remarks throughout the film were great it was just brilliant so much that i bought the film as soon as it was released for <UNK> and would recommend it to everyone to watch and the fly fishing was amazing really cried at the end it was so sad and you know what they say if you cry at a film it must have been good and this definitely was also <UNK> to the two little boy's that played the <UNK> of norman and paul they were just brilliant children are often left out of the <UNK> list i think because the stars that play them all grown up are such a big profile for the whole film but these children are amazing and should be praised for what they have done don't you think the whole story was so lovely because it was true and was someone's life after all that was shared with us all\""
      ]
     },
     "execution_count": 7,
     "metadata": {},
     "output_type": "execute_result"
    }
   ],
   "source": [
    "decode_review(train_data[0])"
   ]
  },
  {
   "cell_type": "code",
   "execution_count": 8,
   "metadata": {},
   "outputs": [],
   "source": [
    "train_data = keras.preprocessing.sequence.pad_sequences(train_data,\n",
    "                                                        value=word_index[\"<PAD>\"],\n",
    "                                                        padding='post',\n",
    "                                                        maxlen=256)\n",
    "\n",
    "test_data = keras.preprocessing.sequence.pad_sequences(test_data,\n",
    "                                                       value=word_index[\"<PAD>\"],\n",
    "                                                       padding='post',\n",
    "                                                       maxlen=256)"
   ]
  },
  {
   "cell_type": "code",
   "execution_count": 9,
   "metadata": {},
   "outputs": [
    {
     "data": {
      "text/plain": [
       "(256, 256)"
      ]
     },
     "execution_count": 9,
     "metadata": {},
     "output_type": "execute_result"
    }
   ],
   "source": [
    "len(train_data[0]), len(train_data[1])"
   ]
  },
  {
   "cell_type": "code",
   "execution_count": 10,
   "metadata": {},
   "outputs": [
    {
     "name": "stdout",
     "output_type": "stream",
     "text": [
      "[   1   14   22   16   43  530  973 1622 1385   65  458 4468   66 3941\n",
      "    4  173   36  256    5   25  100   43  838  112   50  670    2    9\n",
      "   35  480  284    5  150    4  172  112  167    2  336  385   39    4\n",
      "  172 4536 1111   17  546   38   13  447    4  192   50   16    6  147\n",
      " 2025   19   14   22    4 1920 4613  469    4   22   71   87   12   16\n",
      "   43  530   38   76   15   13 1247    4   22   17  515   17   12   16\n",
      "  626   18    2    5   62  386   12    8  316    8  106    5    4 2223\n",
      " 5244   16  480   66 3785   33    4  130   12   16   38  619    5   25\n",
      "  124   51   36  135   48   25 1415   33    6   22   12  215   28   77\n",
      "   52    5   14  407   16   82    2    8    4  107  117 5952   15  256\n",
      "    4    2    7 3766    5  723   36   71   43  530  476   26  400  317\n",
      "   46    7    4    2 1029   13  104   88    4  381   15  297   98   32\n",
      " 2071   56   26  141    6  194 7486   18    4  226   22   21  134  476\n",
      "   26  480    5  144   30 5535   18   51   36   28  224   92   25  104\n",
      "    4  226   65   16   38 1334   88   12   16  283    5   16 4472  113\n",
      "  103   32   15   16 5345   19  178   32    0    0    0    0    0    0\n",
      "    0    0    0    0    0    0    0    0    0    0    0    0    0    0\n",
      "    0    0    0    0    0    0    0    0    0    0    0    0    0    0\n",
      "    0    0    0    0]\n"
     ]
    }
   ],
   "source": [
    "print(train_data[0])"
   ]
  },
  {
   "cell_type": "code",
   "execution_count": 11,
   "metadata": {},
   "outputs": [
    {
     "name": "stdout",
     "output_type": "stream",
     "text": [
      "Model: \"sequential\"\n",
      "_________________________________________________________________\n",
      "Layer (type)                 Output Shape              Param #   \n",
      "=================================================================\n",
      "embedding (Embedding)        (None, None, 16)          160000    \n",
      "_________________________________________________________________\n",
      "global_average_pooling1d (Gl (None, 16)                0         \n",
      "_________________________________________________________________\n",
      "dense (Dense)                (None, 16)                272       \n",
      "_________________________________________________________________\n",
      "dense_1 (Dense)              (None, 1)                 17        \n",
      "=================================================================\n",
      "Total params: 160,289\n",
      "Trainable params: 160,289\n",
      "Non-trainable params: 0\n",
      "_________________________________________________________________\n"
     ]
    }
   ],
   "source": [
    "# 입력 크기는 영화 리뷰 데이터셋에 적용된 어휘 사전의 크기입니다(10,000개의 단어)\n",
    "vocab_size = 10000\n",
    "\n",
    "model = keras.Sequential()\n",
    "model.add(keras.layers.Embedding(vocab_size, 16, input_shape=(None,)))\n",
    "model.add(keras.layers.GlobalAveragePooling1D())\n",
    "model.add(keras.layers.Dense(16, activation='relu'))\n",
    "model.add(keras.layers.Dense(1, activation='sigmoid'))\n",
    "\n",
    "model.summary()"
   ]
  },
  {
   "cell_type": "code",
   "execution_count": 12,
   "metadata": {},
   "outputs": [],
   "source": [
    "model.compile(optimizer='adam',\n",
    "              loss='binary_crossentropy',\n",
    "              metrics=['accuracy'])"
   ]
  },
  {
   "cell_type": "code",
   "execution_count": 13,
   "metadata": {},
   "outputs": [],
   "source": [
    "x_val = train_data[:10000]\n",
    "partial_x_train = train_data[10000:]\n",
    "\n",
    "y_val = train_labels[:10000]\n",
    "partial_y_train = train_labels[10000:]"
   ]
  },
  {
   "cell_type": "code",
   "execution_count": 14,
   "metadata": {},
   "outputs": [
    {
     "name": "stdout",
     "output_type": "stream",
     "text": [
      "Train on 15000 samples, validate on 10000 samples\n",
      "Epoch 1/40\n",
      "15000/15000 [==============================] - 1s 86us/sample - loss: 0.6919 - accuracy: 0.6265 - val_loss: 0.6898 - val_accuracy: 0.6407\n",
      "Epoch 2/40\n",
      "15000/15000 [==============================] - 1s 48us/sample - loss: 0.6867 - accuracy: 0.6908 - val_loss: 0.6832 - val_accuracy: 0.7168\n",
      "Epoch 3/40\n",
      "15000/15000 [==============================] - 1s 49us/sample - loss: 0.6770 - accuracy: 0.7434 - val_loss: 0.6710 - val_accuracy: 0.7487\n",
      "Epoch 4/40\n",
      "15000/15000 [==============================] - 1s 49us/sample - loss: 0.6594 - accuracy: 0.7692 - val_loss: 0.6504 - val_accuracy: 0.7713\n",
      "Epoch 5/40\n",
      "15000/15000 [==============================] - 1s 49us/sample - loss: 0.6319 - accuracy: 0.7895 - val_loss: 0.6203 - val_accuracy: 0.7865\n",
      "Epoch 6/40\n",
      "15000/15000 [==============================] - 1s 47us/sample - loss: 0.5945 - accuracy: 0.8078 - val_loss: 0.5828 - val_accuracy: 0.8018\n",
      "Epoch 7/40\n",
      "15000/15000 [==============================] - 1s 49us/sample - loss: 0.5504 - accuracy: 0.8257 - val_loss: 0.5409 - val_accuracy: 0.8136\n",
      "Epoch 8/40\n",
      "15000/15000 [==============================] - 1s 48us/sample - loss: 0.5038 - accuracy: 0.8428 - val_loss: 0.4988 - val_accuracy: 0.8270\n",
      "Epoch 9/40\n",
      "15000/15000 [==============================] - 1s 49us/sample - loss: 0.4588 - accuracy: 0.8558 - val_loss: 0.4612 - val_accuracy: 0.8390\n",
      "Epoch 10/40\n",
      "15000/15000 [==============================] - 1s 49us/sample - loss: 0.4187 - accuracy: 0.8669 - val_loss: 0.4274 - val_accuracy: 0.8479\n",
      "Epoch 11/40\n",
      "15000/15000 [==============================] - 1s 49us/sample - loss: 0.3835 - accuracy: 0.8763 - val_loss: 0.4011 - val_accuracy: 0.8539\n",
      "Epoch 12/40\n",
      "15000/15000 [==============================] - 1s 48us/sample - loss: 0.3544 - accuracy: 0.8835 - val_loss: 0.3791 - val_accuracy: 0.8597\n",
      "Epoch 13/40\n",
      "15000/15000 [==============================] - 1s 48us/sample - loss: 0.3295 - accuracy: 0.8907 - val_loss: 0.3607 - val_accuracy: 0.8642\n",
      "Epoch 14/40\n",
      "15000/15000 [==============================] - 1s 48us/sample - loss: 0.3078 - accuracy: 0.8969 - val_loss: 0.3464 - val_accuracy: 0.8681\n",
      "Epoch 15/40\n",
      "15000/15000 [==============================] - 1s 47us/sample - loss: 0.2895 - accuracy: 0.9027 - val_loss: 0.3350 - val_accuracy: 0.8714\n",
      "Epoch 16/40\n",
      "15000/15000 [==============================] - 1s 48us/sample - loss: 0.2731 - accuracy: 0.9060 - val_loss: 0.3248 - val_accuracy: 0.8747\n",
      "Epoch 17/40\n",
      "15000/15000 [==============================] - 1s 48us/sample - loss: 0.2592 - accuracy: 0.9104 - val_loss: 0.3166 - val_accuracy: 0.8771\n",
      "Epoch 18/40\n",
      "15000/15000 [==============================] - 1s 49us/sample - loss: 0.2462 - accuracy: 0.9155 - val_loss: 0.3099 - val_accuracy: 0.8778\n",
      "Epoch 19/40\n",
      "15000/15000 [==============================] - 1s 50us/sample - loss: 0.2342 - accuracy: 0.9201 - val_loss: 0.3047 - val_accuracy: 0.8806\n",
      "Epoch 20/40\n",
      "15000/15000 [==============================] - 1s 49us/sample - loss: 0.2235 - accuracy: 0.9230 - val_loss: 0.3006 - val_accuracy: 0.8788\n",
      "Epoch 21/40\n",
      "15000/15000 [==============================] - 1s 49us/sample - loss: 0.2133 - accuracy: 0.9273 - val_loss: 0.2961 - val_accuracy: 0.8814\n",
      "Epoch 22/40\n",
      "15000/15000 [==============================] - 1s 49us/sample - loss: 0.2046 - accuracy: 0.9305 - val_loss: 0.2929 - val_accuracy: 0.8826\n",
      "Epoch 23/40\n",
      "15000/15000 [==============================] - 1s 49us/sample - loss: 0.1960 - accuracy: 0.9333 - val_loss: 0.2906 - val_accuracy: 0.8831\n",
      "Epoch 24/40\n",
      "15000/15000 [==============================] - 1s 48us/sample - loss: 0.1878 - accuracy: 0.9375 - val_loss: 0.2888 - val_accuracy: 0.8841\n",
      "Epoch 25/40\n",
      "15000/15000 [==============================] - 1s 48us/sample - loss: 0.1798 - accuracy: 0.9410 - val_loss: 0.2874 - val_accuracy: 0.8838\n",
      "Epoch 26/40\n",
      "15000/15000 [==============================] - 1s 48us/sample - loss: 0.1731 - accuracy: 0.9441 - val_loss: 0.2865 - val_accuracy: 0.8854\n",
      "Epoch 27/40\n",
      "15000/15000 [==============================] - 1s 48us/sample - loss: 0.1663 - accuracy: 0.9469 - val_loss: 0.2855 - val_accuracy: 0.8849\n",
      "Epoch 28/40\n",
      "15000/15000 [==============================] - 1s 48us/sample - loss: 0.1597 - accuracy: 0.9501 - val_loss: 0.2855 - val_accuracy: 0.8851\n",
      "Epoch 29/40\n",
      "15000/15000 [==============================] - 1s 49us/sample - loss: 0.1535 - accuracy: 0.9531 - val_loss: 0.2856 - val_accuracy: 0.8845\n",
      "Epoch 30/40\n",
      "15000/15000 [==============================] - 1s 48us/sample - loss: 0.1479 - accuracy: 0.9545 - val_loss: 0.2861 - val_accuracy: 0.8855\n",
      "Epoch 31/40\n",
      "15000/15000 [==============================] - 1s 49us/sample - loss: 0.1423 - accuracy: 0.9568 - val_loss: 0.2865 - val_accuracy: 0.8859\n",
      "Epoch 32/40\n",
      "15000/15000 [==============================] - 1s 49us/sample - loss: 0.1371 - accuracy: 0.9588 - val_loss: 0.2877 - val_accuracy: 0.8856\n",
      "Epoch 33/40\n",
      "15000/15000 [==============================] - 1s 49us/sample - loss: 0.1322 - accuracy: 0.9605 - val_loss: 0.2894 - val_accuracy: 0.8850\n",
      "Epoch 34/40\n",
      "15000/15000 [==============================] - 1s 49us/sample - loss: 0.1271 - accuracy: 0.9636 - val_loss: 0.2902 - val_accuracy: 0.8851\n",
      "Epoch 35/40\n",
      "15000/15000 [==============================] - 1s 51us/sample - loss: 0.1230 - accuracy: 0.9646 - val_loss: 0.2929 - val_accuracy: 0.8850\n",
      "Epoch 36/40\n",
      "15000/15000 [==============================] - 1s 50us/sample - loss: 0.1190 - accuracy: 0.9661 - val_loss: 0.2935 - val_accuracy: 0.8856\n",
      "Epoch 37/40\n",
      "15000/15000 [==============================] - 1s 49us/sample - loss: 0.1141 - accuracy: 0.9686 - val_loss: 0.2960 - val_accuracy: 0.8843\n",
      "Epoch 38/40\n",
      "15000/15000 [==============================] - 1s 48us/sample - loss: 0.1097 - accuracy: 0.9697 - val_loss: 0.2983 - val_accuracy: 0.8843\n",
      "Epoch 39/40\n",
      "15000/15000 [==============================] - 1s 49us/sample - loss: 0.1060 - accuracy: 0.9706 - val_loss: 0.3021 - val_accuracy: 0.8824\n",
      "Epoch 40/40\n",
      "15000/15000 [==============================] - 1s 49us/sample - loss: 0.1026 - accuracy: 0.9723 - val_loss: 0.3032 - val_accuracy: 0.8838\n"
     ]
    }
   ],
   "source": [
    "history = model.fit(partial_x_train,\n",
    "                    partial_y_train,\n",
    "                    epochs=40,\n",
    "                    batch_size=512,\n",
    "                    validation_data=(x_val, y_val),\n",
    "                    verbose=1)"
   ]
  },
  {
   "cell_type": "code",
   "execution_count": 15,
   "metadata": {},
   "outputs": [
    {
     "name": "stdout",
     "output_type": "stream",
     "text": [
      "25000/1 - 0s - loss: 0.3288 - accuracy: 0.8728\n",
      "[0.3223077954530716, 0.8728]\n"
     ]
    }
   ],
   "source": [
    "results = model.evaluate(test_data,  test_labels, verbose=2)\n",
    "\n",
    "print(results)"
   ]
  },
  {
   "cell_type": "code",
   "execution_count": 16,
   "metadata": {},
   "outputs": [],
   "source": [
    "model.save('IMDB_Model.h5')"
   ]
  },
  {
   "cell_type": "code",
   "execution_count": null,
   "metadata": {},
   "outputs": [],
   "source": []
  }
 ],
 "metadata": {
  "kernelspec": {
   "display_name": "Python 3",
   "language": "python",
   "name": "python3"
  },
  "language_info": {
   "codemirror_mode": {
    "name": "ipython",
    "version": 3
   },
   "file_extension": ".py",
   "mimetype": "text/x-python",
   "name": "python",
   "nbconvert_exporter": "python",
   "pygments_lexer": "ipython3",
   "version": "3.7.5"
  }
 },
 "nbformat": 4,
 "nbformat_minor": 2
}
