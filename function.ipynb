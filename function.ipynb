{
 "cells": [
  {
   "cell_type": "code",
   "execution_count": 1,
   "metadata": {},
   "outputs": [],
   "source": [
    "import tensorflow as tf"
   ]
  },
  {
   "cell_type": "code",
   "execution_count": 2,
   "metadata": {},
   "outputs": [],
   "source": [
    "def getModelConfig(file):\n",
    "    return tf.keras.models.load_model(file).get_config()\n",
    "\n",
    "\n",
    "def getLayersName(file):\n",
    "    \n",
    "    layer_name = []\n",
    "    \n",
    "    try:\n",
    "        model = getModelConfig(file)\n",
    "        model = model['layers']\n",
    "        model_length = len(model)\n",
    "\n",
    "        for i in range(model_length):\n",
    "            model_name = model[i]['class_name']\n",
    "            layer_name.append(model_name)\n",
    "    \n",
    "    except:\n",
    "        print(\"Unknown Error\")\n",
    "    \n",
    "    finally:\n",
    "        return layer_name\n",
    "\n",
    "\n",
    "def getModelLayersConfig(file):\n",
    "    \n",
    "    model_config_list = []\n",
    "    \n",
    "    try:\n",
    "        model_config = getModelConfig(file)\n",
    "        model_config = model_config['layers']\n",
    "        model_config_length = len(model_config)\n",
    "\n",
    "        for i in range(model_config_length):\n",
    "            model_config_in_for = model_config[i]['config'].items()\n",
    "            model_i = []\n",
    "\n",
    "            for i in model_config_in_for:\n",
    "                model_i.append(i)\n",
    "\n",
    "            model_config_list.append(model_i)\n",
    "    except:\n",
    "        print(\"Unkown Error\")\n",
    "    \n",
    "    finally:\n",
    "        return model_config_list\n",
    "    \n",
    "    \n",
    "def showModelSummary(file):\n",
    "    tf.keras.models.load_model(file).summary()\n",
    "    \n",
    "    \n",
    "def getModelLayersConfigNormalization(file):\n",
    "    model_layer_config = getModelLayersConfig(file)\n",
    "    \n",
    "    # <-- Nomarlization -->\n",
    "    all_model_legnth = len(model_layer_config)\n",
    "    NoneType_index = []\n",
    "    \n",
    "    for i in range(all_model_legnth):\n",
    "        model_lenght = len(model_layer_config[i])\n",
    "        \n",
    "        for j in range(model_lenght):\n",
    "            value = model_layer_config[i][j][1]\n",
    "            \n",
    "            if(value == None):\n",
    "                NoneType_index.append([i, \n",
    "                                       j, \n",
    "                                       model_layer_config[i][j]\n",
    "                                      ])\n",
    "\n",
    "    for data in NoneType_index:\n",
    "        i, j, removeData = data\n",
    "        model_layer_config[i].remove(removeData)\n",
    "    # <-- FINISH -->    \n",
    "    \n",
    "    return model_layer_config"
   ]
  },
  {
   "cell_type": "code",
   "execution_count": 3,
   "metadata": {},
   "outputs": [],
   "source": [
    "path = './mnist_dropdout.h5'"
   ]
  },
  {
   "cell_type": "code",
   "execution_count": 4,
   "metadata": {},
   "outputs": [],
   "source": [
    "data = getModelLayersConfigNormalization(path)\n",
    "layers_name = getLayersName(path)"
   ]
  },
  {
   "cell_type": "code",
   "execution_count": 5,
   "metadata": {},
   "outputs": [
    {
     "name": "stdout",
     "output_type": "stream",
     "text": [
      "Layer : Flatten\n",
      "input_shape : 784 \n",
      "\n",
      "Layer : Dense\n",
      "units : 128 \n",
      "\n",
      "Layer : Dropout\n",
      "units : 128\n",
      "rate : 0.5 \n",
      "\n",
      "Layer : Activation\n",
      "rate : 0.5\n",
      "Layer : Dense\n",
      "units : 128 \n",
      "\n",
      "Layer : Dropout\n",
      "units : 128\n",
      "rate : 0.5 \n",
      "\n",
      "Layer : Activation\n",
      "rate : 0.5\n",
      "Layer : Dense\n",
      "units : 10 \n",
      "\n",
      "Layer : Activation\n",
      "units : 10\n"
     ]
    }
   ],
   "source": [
    "for i in range(len(data)):\n",
    "    \n",
    "    print(\"Layer :\", layers_name[i])\n",
    "    \n",
    "    if (i == 0):\n",
    "        init = 1\n",
    "        batch_input_shape = data[i][2][1]\n",
    "        \n",
    "        for i in batch_input_shape:\n",
    "            if (i == None):\n",
    "                i = 1\n",
    "            init = init * i \n",
    "        print(\"input_shape :\",init, \"\\n\")\n",
    "        \n",
    "    else:\n",
    "        if(data[i][3][0] == \"units\"):\n",
    "            print(data[i][3][0],\":\",data[i][3][1], \"\\n\")\n",
    "            \n",
    "        elif(data[i][3][0] == \"rate\"):\n",
    "            print(data[i - 1][3][0], \":\", data[i - 1][3][1])\n",
    "            print(data[i][3][0],\":\",data[i][3][1], \"\\n\")\n",
    "            \n",
    "        else:\n",
    "            print(data[i - 1][3][0], \":\", data[i - 1][3][1])"
   ]
  },
  {
   "cell_type": "code",
   "execution_count": null,
   "metadata": {},
   "outputs": [],
   "source": [
    "showModelSummary(path)"
   ]
  },
  {
   "cell_type": "code",
   "execution_count": 6,
   "metadata": {},
   "outputs": [],
   "source": [
    "model = tf.keras.models.load_model(path)"
   ]
  },
  {
   "cell_type": "code",
   "execution_count": 19,
   "metadata": {},
   "outputs": [
    {
     "data": {
      "text/plain": [
       "<tensorflow.python.keras.layers.core.Flatten at 0x1d70d41fa88>"
      ]
     },
     "execution_count": 19,
     "metadata": {},
     "output_type": "execute_result"
    }
   ],
   "source": [
    "model.get_layer(index=0)"
   ]
  },
  {
   "cell_type": "code",
   "execution_count": null,
   "metadata": {},
   "outputs": [],
   "source": []
  }
 ],
 "metadata": {
  "kernelspec": {
   "display_name": "Python 3",
   "language": "python",
   "name": "python3"
  },
  "language_info": {
   "codemirror_mode": {
    "name": "ipython",
    "version": 3
   },
   "file_extension": ".py",
   "mimetype": "text/x-python",
   "name": "python",
   "nbconvert_exporter": "python",
   "pygments_lexer": "ipython3",
   "version": "3.7.5"
  }
 },
 "nbformat": 4,
 "nbformat_minor": 2
}
