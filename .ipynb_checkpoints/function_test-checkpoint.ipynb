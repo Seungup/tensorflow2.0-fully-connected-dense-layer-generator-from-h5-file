{
 "cells": [
  {
   "cell_type": "code",
   "execution_count": 1,
   "metadata": {},
   "outputs": [],
   "source": [
    "import function\n",
    "import cv2"
   ]
  },
  {
   "cell_type": "code",
   "execution_count": 2,
   "metadata": {},
   "outputs": [],
   "source": [
    "path = './mnist_dropdout.h5'\n",
    "layers_number = (len(function.getLayersInfo(path)) - 1)\n",
    "img_w =  layers_number * 1000\n",
    "img_h = img_w\n",
    "radius = 8\n",
    "\n",
    "data = function.getDenseList(path)\n",
    "data_allN = function.model_neurons_position(data)\n",
    "model_layer = function.getLayersName(path)"
   ]
  },
  {
   "cell_type": "code",
   "execution_count": 10,
   "metadata": {},
   "outputs": [],
   "source": [
    "a = []\n",
    "for i in range(len(data)):\n",
    "    if (data[i][2] == \"Dropout\"):\n",
    "        a.append(i)"
   ]
  },
  {
   "cell_type": "code",
   "execution_count": 14,
   "metadata": {},
   "outputs": [
    {
     "data": {
      "text/plain": [
       "[(784, 1, 'Flatten'),\n",
       " (128, 2, 'Dense'),\n",
       " (128, 3, 'Dropout'),\n",
       " (128, 5, 'Dense'),\n",
       " (128, 6, 'Dropout'),\n",
       " (10, 8, 'Dense')]"
      ]
     },
     "execution_count": 14,
     "metadata": {},
     "output_type": "execute_result"
    }
   ],
   "source": [
    "data"
   ]
  },
  {
   "cell_type": "code",
   "execution_count": 11,
   "metadata": {},
   "outputs": [
    {
     "data": {
      "text/plain": [
       "[2, 4]"
      ]
     },
     "execution_count": 11,
     "metadata": {},
     "output_type": "execute_result"
    }
   ],
   "source": [
    "a"
   ]
  },
  {
   "cell_type": "code",
   "execution_count": 13,
   "metadata": {},
   "outputs": [
    {
     "data": {
      "text/plain": [
       "[(784, 1, 'Flatten'),\n",
       " (128, 2, 'Dense'),\n",
       " (128, 3, 'Dropout'),\n",
       " (128, 5, 'Dense'),\n",
       " (128, 6, 'Dropout'),\n",
       " (10, 8, 'Dense')]"
      ]
     },
     "execution_count": 13,
     "metadata": {},
     "output_type": "execute_result"
    }
   ],
   "source": [
    "data"
   ]
  },
  {
   "cell_type": "code",
   "execution_count": 8,
   "metadata": {},
   "outputs": [],
   "source": [
    "img = function.getBlankImage(width=img_w, \n",
    "                             height=img_h, \n",
    "                             dimension=3)\n",
    "\n",
    "\n",
    "neuron_postion = function.getAllNeurons(img=img,\n",
    "                                        img_w=img_w,\n",
    "                                        img_h=img_h, \n",
    "                                        number_of_sction=layers_number,\n",
    "                                        data=data_allN)\n",
    "\n",
    "img = function.drawingNerons(img=img, \n",
    "                             data=unpack_postion,\n",
    "                             radius=radius)\n",
    "\n",
    "\n",
    "\n",
    "\n",
    "new_postion = neuron_postion[0], neuron_postion[1]\n",
    "\n",
    "img = function.drawingLines(img=img, \n",
    "                            data=new_postion,\n",
    "                            radius=radius)\n",
    "\n",
    "new_postion = neuron_postion[2], neuron_postion[3]\n",
    "\n",
    "img = function.drawingLines(img=img, \n",
    "                            data=new_postion,\n",
    "                            radius=radius)\n",
    "\n",
    "new_postion = neuron_postion[4], neuron_postion[5]\n",
    "\n",
    "img = function.drawingLines(img=img, \n",
    "                            data=new_postion,\n",
    "                            radius=radius)\n",
    "\n",
    "\n",
    "\n",
    "\n",
    "new_postion = neuron_postion[1], neuron_postion[2]\n",
    "for i in range(len(new_postion[0])):\n",
    "    img = cv2.line(img=img,\n",
    "                   pt1= function.getArrowStartPoint(new_postion[0][i], radius),\n",
    "                   pt2=function.getArrowEndPoint(new_postion[1][i], radius),\n",
    "                   color=(255, 0, 255))\n",
    "    \n",
    "new_postion = neuron_postion[3], neuron_postion[4]\n",
    "for i in range(len(new_postion[0])):\n",
    "    img = cv2.line(img=img,\n",
    "                   pt1= function.getArrowStartPoint(new_postion[0][i], radius),\n",
    "                   pt2=function.getArrowEndPoint(new_postion[1][i], radius),\n",
    "                   color=(255, 0, 255))\n",
    "\n",
    "    \n",
    "    \n",
    "function.save(img)\n",
    "function.showImage(img)"
   ]
  },
  {
   "cell_type": "code",
   "execution_count": null,
   "metadata": {},
   "outputs": [],
   "source": []
  },
  {
   "cell_type": "code",
   "execution_count": null,
   "metadata": {},
   "outputs": [],
   "source": [
    "_, (x_test, y_test)  = function.getMnistData()\n",
    "_, acc = function.evaluate(path, \n",
    "                           test_images=x_test, \n",
    "                           test_labels=y_test, \n",
    "                           verbose=2)\n",
    "print(f\"accuracy: {round(acc  * 100, 2)}%\")"
   ]
  },
  {
   "cell_type": "code",
   "execution_count": null,
   "metadata": {},
   "outputs": [],
   "source": [
    "path = './mnist.h5'\n",
    "model_w = function.getModelWeights(path)\n",
    "function.printLayer(path)\n",
    "for i in range(len(model_w)):\n",
    "    print(model_w[i].shape)\n",
    "function.showModelSummary(path)"
   ]
  },
  {
   "cell_type": "code",
   "execution_count": null,
   "metadata": {},
   "outputs": [],
   "source": [
    "path = './mnist_dropdout.h5'\n",
    "model_w = function.getModelWeights(path)\n",
    "function.printLayer(path)\n",
    "for i in range(len(model_w)):\n",
    "    print(model_w[i].shape)\n",
    "function.showModelSummary(path)"
   ]
  }
 ],
 "metadata": {
  "kernelspec": {
   "display_name": "Python 3",
   "language": "python",
   "name": "python3"
  },
  "language_info": {
   "codemirror_mode": {
    "name": "ipython",
    "version": 3
   },
   "file_extension": ".py",
   "mimetype": "text/x-python",
   "name": "python",
   "nbconvert_exporter": "python",
   "pygments_lexer": "ipython3",
   "version": "3.7.5"
  }
 },
 "nbformat": 4,
 "nbformat_minor": 2
}
