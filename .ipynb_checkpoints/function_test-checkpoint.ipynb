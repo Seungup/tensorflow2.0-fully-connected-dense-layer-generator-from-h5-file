{
 "cells": [
  {
   "cell_type": "code",
   "execution_count": 1,
   "metadata": {},
   "outputs": [],
   "source": [
    "import function"
   ]
  },
  {
   "cell_type": "code",
   "execution_count": 23,
   "metadata": {},
   "outputs": [
    {
     "name": "stdout",
     "output_type": "stream",
     "text": [
      "Optimazer : Adam\n",
      "\n",
      "Layer_0 | Name : Flatten\n",
      "Layer_0 | input_shape : (None, 28, 28)\n",
      "Layer_0 | output_shape : 784\n",
      "Layer_0 | Paragms : 0\n",
      "\n",
      "Layer_1 | Name : Dense\n",
      "Layer_1 | Neurons : 128\n",
      "Layer_1 | Paragms : 100480\n",
      "\n",
      "Layer_2 | Name : Dropout\n",
      "Layer_2 | Rate : 50.0%\n",
      "Layer_2 | Paragms : 0\n",
      "\n",
      "Layer_3 | Name : Activation\n",
      "Layer_3 | Funtion : relu\n",
      "Layer_3 | Paragms : 0\n",
      "\n",
      "Layer_4 | Name : Dense\n",
      "Layer_4 | Neurons : 128\n",
      "Layer_4 | Paragms : 16512\n",
      "\n",
      "Layer_5 | Name : Dropout\n",
      "Layer_5 | Rate : 50.0%\n",
      "Layer_5 | Paragms : 0\n",
      "\n",
      "Layer_6 | Name : Activation\n",
      "Layer_6 | Funtion : relu\n",
      "Layer_6 | Paragms : 0\n",
      "\n",
      "Layer_7 | Name : Dense\n",
      "Layer_7 | Neurons : 10\n",
      "Layer_7 | Paragms : 1290\n",
      "\n",
      "Layer_8 | Name : Activation\n",
      "Layer_8 | Funtion : softmax\n",
      "Layer_8 | Paragms : 0\n",
      "\n"
     ]
    }
   ],
   "source": [
    "path = './mnist_dropdout.h5'\n",
    "data = function.getLayersInfo(path)\n",
    "function.printLayer(path)"
   ]
  },
  {
   "cell_type": "code",
   "execution_count": 21,
   "metadata": {},
   "outputs": [],
   "source": [
    "img_w = 1000\n",
    "img_h = 1000\n",
    "img_d = 3\n",
    "\n",
    "radius = 1\n",
    "\n",
    "# <-- need to do automaticaly this section-->\n",
    "number_of_section  = 10\n",
    "\n",
    "first_neuron = 25\n",
    "first_section = 1\n",
    "\n",
    "second_neuron = 25\n",
    "second_section = 5\n",
    "\n",
    "third_neuron = 10\n",
    "third_section = 10"
   ]
  },
  {
   "cell_type": "code",
   "execution_count": 22,
   "metadata": {},
   "outputs": [],
   "source": [
    "img = function.getBlankImage(width=img_w, \n",
    "                             height=img_h, \n",
    "                             dimension=img_d)\n",
    "\n",
    "# <-- need to do automaticaly this section-->\n",
    "first_neuron = function.getNeuronPostion(img_w=img_w,\n",
    "                                         img_h=img_h,\n",
    "                                         number_of_neuron=first_neuron,\n",
    "                                         number_of_section=number_of_section,\n",
    "                                         section=first_section)\n",
    "\n",
    "second_neuron = function.getNeuronPostion(img_w=img_w,\n",
    "                                          img_h=img_h,\n",
    "                                          number_of_neuron=second_neuron,\n",
    "                                          number_of_section=number_of_section,\n",
    "                                          section=second_section)\n",
    "\n",
    "third_neuron = function.getNeuronPostion(img_w=img_w,\n",
    "                                         img_h=img_h,\n",
    "                                         number_of_neuron=third_neuron,\n",
    "                                         number_of_section=number_of_section,\n",
    "                                         section=third_section)\n",
    "\n",
    "# <-- need to do automaticaly this section-->\n",
    "img = function.drawingNerons(img, \n",
    "                             first_neuron, \n",
    "                             radius=radius)\n",
    "\n",
    "img = function.drawingNerons(img, \n",
    "                             second_neuron, \n",
    "                             radius=radius)\n",
    "\n",
    "img = function.drawingNerons(img, \n",
    "                             third_neuron, \n",
    "                             radius=radius)\n",
    "\n",
    "img = function.drawingLines(img, \n",
    "                            radius, \n",
    "                            *(first_neuron, second_neuron, third_neuron))\n",
    "        \n",
    "function.showImage(img)"
   ]
  },
  {
   "cell_type": "code",
   "execution_count": null,
   "metadata": {},
   "outputs": [],
   "source": []
  }
 ],
 "metadata": {
  "kernelspec": {
   "display_name": "Python 3",
   "language": "python",
   "name": "python3"
  },
  "language_info": {
   "codemirror_mode": {
    "name": "ipython",
    "version": 3
   },
   "file_extension": ".py",
   "mimetype": "text/x-python",
   "name": "python",
   "nbconvert_exporter": "python",
   "pygments_lexer": "ipython3",
   "version": "3.7.5"
  }
 },
 "nbformat": 4,
 "nbformat_minor": 2
}
