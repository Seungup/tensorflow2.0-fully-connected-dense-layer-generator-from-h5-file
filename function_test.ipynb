{
 "cells": [
  {
   "cell_type": "code",
   "execution_count": 1,
   "metadata": {},
   "outputs": [],
   "source": [
    "import function\n",
    "import cv2"
   ]
  },
  {
   "cell_type": "code",
   "execution_count": 2,
   "metadata": {},
   "outputs": [],
   "source": [
    "path = './mnist_dropdout.h5'"
   ]
  },
  {
   "cell_type": "code",
   "execution_count": 70,
   "metadata": {},
   "outputs": [],
   "source": [
    "layers_number = (len(function.getLayersInfo(path)) - 1)\n",
    "img_w =  layers_number * 150\n",
    "img_h = img_w\n",
    "radius = 10\n",
    "data_allN = function.model_neurons_position(function.getDenseList(path))\n",
    "model_layer = function.getLayersName(path)"
   ]
  },
  {
   "cell_type": "code",
   "execution_count": null,
   "metadata": {},
   "outputs": [],
   "source": [
    "img = function.getBlankImage(width=img_w, \n",
    "                             height=img_h, \n",
    "                             dimension=3)\n",
    "\n",
    "\n",
    "neuron_postion = function.getAllNeurons(img=img,\n",
    "                                        img_w=img_w,\n",
    "                                        img_h=img_h, \n",
    "                                        number_of_sction=layers_number,\n",
    "                                        data=data_allN)\n",
    "\n",
    "unpack_postion = [x for l in neuron_postion for x in l]\n",
    "\n",
    "img = function.drawingNerons(img=img, \n",
    "                             data=unpack_postion,\n",
    "                             radius=radius)\n",
    "\n",
    "img = function.drawingLines(img=img, \n",
    "                            data=neuron_postion,\n",
    "                            radius=radius)\n",
    "\n",
    "function.showImage(img)\n",
    "function.save(img)\n"
   ]
  },
  {
   "cell_type": "code",
   "execution_count": null,
   "metadata": {},
   "outputs": [],
   "source": []
  }
 ],
 "metadata": {
  "kernelspec": {
   "display_name": "Python 3",
   "language": "python",
   "name": "python3"
  },
  "language_info": {
   "codemirror_mode": {
    "name": "ipython",
    "version": 3
   },
   "file_extension": ".py",
   "mimetype": "text/x-python",
   "name": "python",
   "nbconvert_exporter": "python",
   "pygments_lexer": "ipython3",
   "version": "3.7.5"
  }
 },
 "nbformat": 4,
 "nbformat_minor": 2
}
