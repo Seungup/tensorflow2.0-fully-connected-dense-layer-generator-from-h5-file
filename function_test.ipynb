{
 "cells": [
  {
   "cell_type": "code",
   "execution_count": 1,
   "metadata": {},
   "outputs": [],
   "source": [
    "import function\n",
    "\n",
    "import cv2\n",
    "import numpy as np\n",
    "import matplotlib.pyplot as plt"
   ]
  },
  {
   "cell_type": "code",
   "execution_count": 2,
   "metadata": {},
   "outputs": [
    {
     "name": "stdout",
     "output_type": "stream",
     "text": [
      "Optimazer : Adam\n",
      "\n",
      "Layer_0 | Name : Flatten\n",
      "Layer_0 | input_shape : (None, 28, 28)\n",
      "Layer_0 | output_shape : 784\n",
      "Layer_0 | Paragms : 0\n",
      "\n",
      "Layer_1 | Name : Dense\n",
      "Layer_1 | Neurons : 128\n",
      "Layer_1 | Paragms : 100480\n",
      "\n",
      "Layer_2 | Name : Dropout\n",
      "Layer_2 | Rate : 50.0%\n",
      "Layer_2 | Paragms : 0\n",
      "\n",
      "Layer_3 | Name : Activation\n",
      "Layer_3 | Funtion : relu\n",
      "Layer_3 | Paragms : 0\n",
      "\n",
      "Layer_4 | Name : Dense\n",
      "Layer_4 | Neurons : 128\n",
      "Layer_4 | Paragms : 16512\n",
      "\n",
      "Layer_5 | Name : Dropout\n",
      "Layer_5 | Rate : 50.0%\n",
      "Layer_5 | Paragms : 0\n",
      "\n",
      "Layer_6 | Name : Activation\n",
      "Layer_6 | Funtion : relu\n",
      "Layer_6 | Paragms : 0\n",
      "\n",
      "Layer_7 | Name : Dense\n",
      "Layer_7 | Neurons : 10\n",
      "Layer_7 | Paragms : 1290\n",
      "\n",
      "Layer_8 | Name : Activation\n",
      "Layer_8 | Funtion : softmax\n",
      "Layer_8 | Paragms : 0\n",
      "\n"
     ]
    },
    {
     "data": {
      "text/plain": [
       "[{'optimazier': 'Adam'},\n",
       " {'layer': 'Flatten',\n",
       "  'input_shape': (None, 28, 28),\n",
       "  'output_shape': 784,\n",
       "  'paragms': 0},\n",
       " {'layer': 'Dense', 'neruons': 128, 'paragms': 100480},\n",
       " {'layer': 'Dropout', 'rate': 50.0, 'paragms': 0},\n",
       " {'layer': 'Activation', 'funtion': 'relu', 'paragms': 0},\n",
       " {'layer': 'Dense', 'neruons': 128, 'paragms': 16512},\n",
       " {'layer': 'Dropout', 'rate': 50.0, 'paragms': 0},\n",
       " {'layer': 'Activation', 'funtion': 'relu', 'paragms': 0},\n",
       " {'layer': 'Dense', 'neruons': 10, 'paragms': 1290},\n",
       " {'layer': 'Activation', 'funtion': 'softmax', 'paragms': 0}]"
      ]
     },
     "execution_count": 2,
     "metadata": {},
     "output_type": "execute_result"
    }
   ],
   "source": [
    "path = './mnist_dropdout.h5'\n",
    "data = function.getLayersInfo(path)\n",
    "function.printLayer(path)\n",
    "data"
   ]
  },
  {
   "cell_type": "markdown",
   "metadata": {},
   "source": [
    "# <-- Image Generater -->"
   ]
  },
  {
   "cell_type": "code",
   "execution_count": 3,
   "metadata": {},
   "outputs": [],
   "source": [
    "def getBlankImage(height, width, dimension):\n",
    "    return np.zeros((height, width, dimension), np.uint8)\n",
    "\n",
    "def showImage(img):\n",
    "    cv2.imshow('img', img)\n",
    "    cv2.waitKey(0)\n",
    "    cv2.destroyAllWindows()\n",
    "    \n",
    "def getArrowStartPoint(circle_center, radius):\n",
    "    x, y = circle_center\n",
    "    return (x+radius, y)\n",
    "\n",
    "def getArrowEndPoint(circle_center, radius):\n",
    "    x, y = circle_center\n",
    "    return (x-radius, y)\n",
    "\n",
    "def getSectionWight(section_num, section, wight):\n",
    "    \n",
    "    if (wight % section_num == 0):\n",
    "        new_w = (wight / section_num)\n",
    "    else:\n",
    "        new_w = int(wight / section_num)\n",
    "    \n",
    "    if (new_w % 2 == 0):\n",
    "        move_w = (new_w * (section-1)) + (new_w / 2)\n",
    "    else:\n",
    "        move_w = (new_w * (section-1)) + int(new_w / 2)\n",
    "        \n",
    "    return move_w\n",
    "\n",
    "def getSectionHeigh(h, num):\n",
    "    \n",
    "    if (h % num == 0):  \n",
    "        distance = h / num\n",
    "    else:\n",
    "        if (num >= int(h / num)):\n",
    "            distance = int(h / num)\n",
    "        else:\n",
    "            distance = int(h / num) - 1\n",
    "            \n",
    "    blank_piexl = (h - (distance * num))\n",
    "\n",
    "    sub_h = h - blank_piexl    \n",
    "    add_h = 0\n",
    "    return_h_list = []\n",
    "    \n",
    "    while(True):\n",
    "        if(add_h == sub_h):\n",
    "            break\n",
    "        else:\n",
    "            return_h_list.append(add_h + (blank_piexl / 2))\n",
    "            add_h = add_h + distance\n",
    "    \n",
    "    return return_h_list\n",
    "    "
   ]
  },
  {
   "cell_type": "code",
   "execution_count": 47,
   "metadata": {},
   "outputs": [],
   "source": [
    "first_neuron = 6\n",
    "secon_neuron = 15\n",
    "img_w = 200\n",
    "img_h = 300\n",
    "img_d = 3"
   ]
  },
  {
   "cell_type": "code",
   "execution_count": 48,
   "metadata": {},
   "outputs": [],
   "source": [
    "x = getSectionWight(wight=img_w, section_num=9, section=1)\n",
    "y = getSectionHeigh(h=img_h, num=first_neuron)\n",
    "circe_center = []\n",
    "for i in y:\n",
    "    data = (int(x), int(i + ((img_h - y[len(y) - 1]) / 2)))\n",
    "    circe_center.append(data)\n",
    "    \n",
    "\n",
    "x_1 = getSectionWight(wight=img_w, section_num=9, section=9)\n",
    "y_1 = getSectionHeigh(h=img_h, num=secon_neuron)\n",
    "center_nerun = []\n",
    "for i in y_1:\n",
    "    data = (int(x_1), int(i + ((img_h - y_1[len(y_1) - 1]) / 2)))\n",
    "    center_nerun.append(data)"
   ]
  },
  {
   "cell_type": "code",
   "execution_count": 49,
   "metadata": {},
   "outputs": [],
   "source": [
    "img = getBlankImage(width=img_w, height=img_h, dimension=img_d)\n",
    "\n",
    "radius=2\n",
    "\n",
    "\n",
    "# <-- center of neron -->\n",
    "for i in center_nerun:\n",
    "    img = cv2.circle(img=img,\n",
    "                     center=i,\n",
    "                     radius=radius,\n",
    "                     color=(255, 255, 255))\n",
    "\n",
    "# <-- drawing nerons -->\n",
    "for i in circe_center:\n",
    "    img = cv2.circle(img=img,\n",
    "                     center=i,\n",
    "                     radius=radius,\n",
    "                     color=(255, 255, 255))\n",
    "\n",
    "# <-- drawing Lines -->\n",
    "for j in center_nerun:\n",
    "    for i in circe_center:\n",
    "        img = cv2.line(img=img,\n",
    "                       pt1=getArrowStartPoint(j, radius),\n",
    "                       pt2=getArrowEndPoint(i, radius),\n",
    "                       color=(255, 255, 0))"
   ]
  },
  {
   "cell_type": "code",
   "execution_count": 50,
   "metadata": {},
   "outputs": [
    {
     "data": {
      "text/plain": [
       "<matplotlib.image.AxesImage at 0x15ff301a408>"
      ]
     },
     "execution_count": 50,
     "metadata": {},
     "output_type": "execute_result"
    },
    {
     "data": {
      "image/png": "[encoded data removed]",
      "text/plain": [
       "<Figure size 432x288 with 1 Axes>"
      ]
     },
     "metadata": {
      "needs_background": "light"
     },
     "output_type": "display_data"
    }
   ],
   "source": [
    "showImage(img)\n",
    "cv2.imwrite(\"img.png\",img)\n",
    "del img\n",
    "img = plt.imread('./img.png')\n",
    "plt.imshow(img)"
   ]
  },
  {
   "cell_type": "code",
   "execution_count": null,
   "metadata": {},
   "outputs": [],
   "source": []
  }
 ],
 "metadata": {
  "kernelspec": {
   "display_name": "Python 3",
   "language": "python",
   "name": "python3"
  },
  "language_info": {
   "codemirror_mode": {
    "name": "ipython",
    "version": 3
   },
   "file_extension": ".py",
   "mimetype": "text/x-python",
   "name": "python",
   "nbconvert_exporter": "python",
   "pygments_lexer": "ipython3",
   "version": "3.7.5"
  }
 },
 "nbformat": 4,
 "nbformat_minor": 2
}
