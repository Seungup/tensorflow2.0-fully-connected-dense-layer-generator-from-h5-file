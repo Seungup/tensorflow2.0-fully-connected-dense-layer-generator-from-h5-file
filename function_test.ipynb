{
 "cells": [
  {
   "cell_type": "code",
   "execution_count": 1,
   "metadata": {},
   "outputs": [],
   "source": [
    "import function"
   ]
  },
  {
   "cell_type": "code",
   "execution_count": 9,
   "metadata": {},
   "outputs": [],
   "source": [
    "img_w = 1000\n",
    "img_h = 1000\n",
    "img_d = 3\n",
    "\n",
    "radius = 1\n",
    "\n",
    "# <-- need to do automaticaly this section-->\n",
    "number_of_section  = 10\n",
    "\n",
    "first_neuron = 25\n",
    "first_section = 1\n",
    "\n",
    "second_neuron = 4\n",
    "second_section = 5\n",
    "\n",
    "third_neuron = 25\n",
    "third_section = 10"
   ]
  },
  {
   "cell_type": "code",
   "execution_count": 10,
   "metadata": {},
   "outputs": [],
   "source": [
    "img = function.getBlankImage(width=img_w, \n",
    "                             height=img_h, \n",
    "                             dimension=img_d)\n",
    "\n",
    "data_allN = [[first_neuron, first_section],\n",
    "             [second_neuron, second_section],\n",
    "             [third_neuron, third_section]]\n",
    "\n",
    "\n",
    "neuron_postion = function.getAllNeurons(img=img,\n",
    "              img_w=img_w,\n",
    "              img_h=img_h, \n",
    "              number_of_sction=number_of_section,\n",
    "              data=data_allN)\n",
    "\n",
    "unpack_postion = [x for l in neuron_postion for x in l]\n",
    "\n",
    "img = function.drawingNerons(img, \n",
    "                             unpack_postion, \n",
    "                             radius=radius)\n",
    "del unpack_postion\n",
    "\n",
    "img = function.drawingLines(img, \n",
    "                            radius, \n",
    "                            *(neuron_postion[0], neuron_postion[1], neuron_postion[2]))\n",
    "function.showImage(img)\n",
    "del img"
   ]
  },
  {
   "cell_type": "code",
   "execution_count": null,
   "metadata": {},
   "outputs": [],
   "source": []
  }
 ],
 "metadata": {
  "kernelspec": {
   "display_name": "Python 3",
   "language": "python",
   "name": "python3"
  },
  "language_info": {
   "codemirror_mode": {
    "name": "ipython",
    "version": 3
   },
   "file_extension": ".py",
   "mimetype": "text/x-python",
   "name": "python",
   "nbconvert_exporter": "python",
   "pygments_lexer": "ipython3",
   "version": "3.7.5"
  }
 },
 "nbformat": 4,
 "nbformat_minor": 2
}
