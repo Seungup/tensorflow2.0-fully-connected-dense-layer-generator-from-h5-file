{
 "cells": [
  {
   "cell_type": "code",
   "execution_count": 4,
   "metadata": {},
   "outputs": [],
   "source": [
    "import function\n",
    "import matplotlib.pyplot as plt"
   ]
  },
  {
   "cell_type": "code",
   "execution_count": 2,
   "metadata": {},
   "outputs": [
    {
     "name": "stdout",
     "output_type": "stream",
     "text": [
      "Now Get Models Infomation..\n",
      "Now Get Flatten, Dense and Dropout Layer\n",
      "Now Calculating Model Neurons Position\n",
      "Now Get Layers Name\n"
     ]
    }
   ],
   "source": [
    "path = './mnist_dropdout.h5'\n",
    "\n",
    "print(\"Now Get Models Infomation..\")\n",
    "layers_number = (len(function.getLayersInfo(path)) - 1)\n",
    "img_w =  layers_number * 100\n",
    "img_h = img_w\n",
    "radius = 8\n",
    "\n",
    "print(\"Now Get Flatten, Dense and Dropout Layer\")\n",
    "data = function.getLayerList(path)\n",
    "\n",
    "print(\"Now Calculating Model Neurons Position\")\n",
    "data_allN = function.model_neurons_position(data)\n",
    "\n",
    "print(\"Now Get Layers Name\")\n",
    "model_layer = function.getLayersName(path)"
   ]
  },
  {
   "cell_type": "code",
   "execution_count": 5,
   "metadata": {},
   "outputs": [
    {
     "name": "stdout",
     "output_type": "stream",
     "text": [
      "Now Make Blank Image\n",
      "Now Get All Neurons Postion Value\n",
      "Now Drawing Nerons\n",
      "Now Drawing Dense to Dense Line\n",
      "Now Drawing Dense to Dropout Part\n",
      "Show the Result\n"
     ]
    },
    {
     "data": {
      "text/plain": [
       "<matplotlib.image.AxesImage at 0x224f7045ec8>"
      ]
     },
     "execution_count": 5,
     "metadata": {},
     "output_type": "execute_result"
    },
    {
     "data": {
      "image/png": "[encoded data removed]",
      "text/plain": [
       "<Figure size 432x288 with 1 Axes>"
      ]
     },
     "metadata": {
      "needs_background": "light"
     },
     "output_type": "display_data"
    }
   ],
   "source": [
    "print(\"Now Make Blank Image\")\n",
    "img = function.getBlankImage(width=img_w, \n",
    "                             height=img_h, \n",
    "                             dimension=3)\n",
    "\n",
    "print(\"Now Get All Neurons Postion Value\")\n",
    "neuron_postion = function.getAllNeurons(img=img,\n",
    "                                        img_w=img_w,\n",
    "                                        img_h=img_h, \n",
    "                                        number_of_sction=layers_number,\n",
    "                                        data=data_allN)\n",
    "\n",
    "unpack_postion = [x for l in neuron_postion for x in l]\n",
    "\n",
    "print(\"Now Drawing Nerons\")\n",
    "img = function.drawingNerons(img=img, \n",
    "                             data=unpack_postion,\n",
    "                             radius=radius)\n",
    "\n",
    "print(\"Now Drawing Dense to Dense Line\")\n",
    "img = function.drawDenseLine(img=img, neuron_postion=neuron_postion, radius=radius, dense_list=data)\n",
    "\n",
    "print(\"Now Drawing Dense to Dropout Part\")\n",
    "img = function.drawDropoutLine(img=img, \n",
    "                               neuron_postion=neuron_postion, \n",
    "                               radius=radius, \n",
    "                               dense_list=data)\n",
    "\n",
    "print(\"Show the Result\")\n",
    "function.showImage(img)\n",
    "function.save(img)\n",
    "img = plt.imread('./saved.png')\n",
    "plt.imshow(img)"
   ]
  },
  {
   "cell_type": "code",
   "execution_count": null,
   "metadata": {},
   "outputs": [],
   "source": []
  }
 ],
 "metadata": {
  "kernelspec": {
   "display_name": "Python 3",
   "language": "python",
   "name": "python3"
  },
  "language_info": {
   "codemirror_mode": {
    "name": "ipython",
    "version": 3
   },
   "file_extension": ".py",
   "mimetype": "text/x-python",
   "name": "python",
   "nbconvert_exporter": "python",
   "pygments_lexer": "ipython3",
   "version": "3.7.5"
  }
 },
 "nbformat": 4,
 "nbformat_minor": 2
}
