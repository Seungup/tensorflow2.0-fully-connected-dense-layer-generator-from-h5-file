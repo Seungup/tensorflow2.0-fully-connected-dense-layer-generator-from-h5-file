{
 "cells": [
  {
   "cell_type": "code",
   "execution_count": 1,
   "metadata": {},
   "outputs": [],
   "source": [
    "import function\n",
    "\n",
    "path = './models/mnist.h5'"
   ]
  },
  {
   "cell_type": "code",
   "execution_count": 2,
   "metadata": {},
   "outputs": [
    {
     "ename": "NameError",
     "evalue": "name 'getOptimazer' is not defined",
     "output_type": "error",
     "traceback": [
      "\u001b[1;31m---------------------------------------------------------------------------\u001b[0m",
      "\u001b[1;31mNameError\u001b[0m                                 Traceback (most recent call last)",
      "\u001b[1;32m<ipython-input-2-f20d21d188c3>\u001b[0m in \u001b[0;36m<module>\u001b[1;34m\u001b[0m\n\u001b[1;32m----> 1\u001b[1;33m \u001b[0mfunction\u001b[0m\u001b[1;33m.\u001b[0m\u001b[0mgetLayersInfo\u001b[0m\u001b[1;33m(\u001b[0m\u001b[0mpath\u001b[0m\u001b[1;33m)\u001b[0m\u001b[1;33m\u001b[0m\u001b[1;33m\u001b[0m\u001b[0m\n\u001b[0m",
      "\u001b[1;32mE:\\Project\\tensorflow-model-picture-generator\\tensorflow-model-picture-generator\\function.py\u001b[0m in \u001b[0;36mgetLayersInfo\u001b[1;34m(path)\u001b[0m\n\u001b[0;32m     73\u001b[0m     \u001b[0mlayers_name\u001b[0m \u001b[1;33m=\u001b[0m \u001b[0mgetLayersName\u001b[0m\u001b[1;33m(\u001b[0m\u001b[0mpath\u001b[0m\u001b[1;33m)\u001b[0m\u001b[1;33m\u001b[0m\u001b[1;33m\u001b[0m\u001b[0m\n\u001b[0;32m     74\u001b[0m     \u001b[0mdata\u001b[0m \u001b[1;33m=\u001b[0m \u001b[0mgetModelLayersConfigNormalization\u001b[0m\u001b[1;33m(\u001b[0m\u001b[0mpath\u001b[0m\u001b[1;33m)\u001b[0m\u001b[1;33m\u001b[0m\u001b[1;33m\u001b[0m\u001b[0m\n\u001b[1;32m---> 75\u001b[1;33m     \u001b[0moptimazier\u001b[0m \u001b[1;33m=\u001b[0m \u001b[0mgetOptimazer\u001b[0m\u001b[1;33m(\u001b[0m\u001b[0mpath\u001b[0m\u001b[1;33m)\u001b[0m\u001b[1;33m\u001b[0m\u001b[1;33m\u001b[0m\u001b[0m\n\u001b[0m\u001b[0;32m     76\u001b[0m \u001b[1;33m\u001b[0m\u001b[0m\n\u001b[0;32m     77\u001b[0m     \u001b[0mreturn_list\u001b[0m\u001b[1;33m.\u001b[0m\u001b[0mappend\u001b[0m\u001b[1;33m(\u001b[0m\u001b[1;33m{\u001b[0m\u001b[1;34m\"optimazier\"\u001b[0m \u001b[1;33m:\u001b[0m \u001b[0moptimazier\u001b[0m\u001b[1;33m}\u001b[0m\u001b[1;33m)\u001b[0m\u001b[1;33m\u001b[0m\u001b[1;33m\u001b[0m\u001b[0m\n",
      "\u001b[1;31mNameError\u001b[0m: name 'getOptimazer' is not defined"
     ]
    }
   ],
   "source": [
    "function.getLayersInfo(path)"
   ]
  },
  {
   "cell_type": "code",
   "execution_count": 3,
   "metadata": {},
   "outputs": [
    {
     "name": "stdout",
     "output_type": "stream",
     "text": [
      "Now Get Models Infomation..\n",
      "-600\n",
      "Now Get Flatten, Dense and Dropout Layer\n",
      "Now Calculating Model Neurons Position\n",
      "Now Get Layers Name\n",
      "Now Make Blank Image\n"
     ]
    },
    {
     "ename": "ValueError",
     "evalue": "negative dimensions are not allowed",
     "output_type": "error",
     "traceback": [
      "\u001b[1;31m---------------------------------------------------------------------------\u001b[0m",
      "\u001b[1;31mValueError\u001b[0m                                Traceback (most recent call last)",
      "\u001b[1;32m<ipython-input-3-1feb208f7027>\u001b[0m in \u001b[0;36m<module>\u001b[1;34m\u001b[0m\n\u001b[0;32m     16\u001b[0m \u001b[1;33m\u001b[0m\u001b[0m\n\u001b[0;32m     17\u001b[0m \u001b[0mprint\u001b[0m\u001b[1;33m(\u001b[0m\u001b[1;34m\"Now Make Blank Image\"\u001b[0m\u001b[1;33m)\u001b[0m\u001b[1;33m\u001b[0m\u001b[1;33m\u001b[0m\u001b[0m\n\u001b[1;32m---> 18\u001b[1;33m \u001b[0mimg\u001b[0m \u001b[1;33m=\u001b[0m \u001b[0mfunction\u001b[0m\u001b[1;33m.\u001b[0m\u001b[0mgetBlankImage\u001b[0m\u001b[1;33m(\u001b[0m\u001b[0mwidth\u001b[0m\u001b[1;33m=\u001b[0m\u001b[0mimg_w\u001b[0m\u001b[1;33m,\u001b[0m \u001b[0mheight\u001b[0m\u001b[1;33m=\u001b[0m\u001b[0mimg_h\u001b[0m\u001b[1;33m)\u001b[0m\u001b[1;33m\u001b[0m\u001b[1;33m\u001b[0m\u001b[0m\n\u001b[0m\u001b[0;32m     19\u001b[0m \u001b[1;33m\u001b[0m\u001b[0m\n\u001b[0;32m     20\u001b[0m \u001b[0mprint\u001b[0m\u001b[1;33m(\u001b[0m\u001b[1;34m\"Now Get All Neurons Postion Value\"\u001b[0m\u001b[1;33m)\u001b[0m\u001b[1;33m\u001b[0m\u001b[1;33m\u001b[0m\u001b[0m\n",
      "\u001b[1;32mE:\\Project\\tensorflow-model-picture-generator\\tensorflow-model-picture-generator\\function.py\u001b[0m in \u001b[0;36mgetBlankImage\u001b[1;34m(height, width)\u001b[0m\n\u001b[0;32m    152\u001b[0m \u001b[1;33m\u001b[0m\u001b[0m\n\u001b[0;32m    153\u001b[0m \u001b[1;32mdef\u001b[0m \u001b[0mgetBlankImage\u001b[0m\u001b[1;33m(\u001b[0m\u001b[0mheight\u001b[0m\u001b[1;33m,\u001b[0m \u001b[0mwidth\u001b[0m\u001b[1;33m)\u001b[0m\u001b[1;33m:\u001b[0m\u001b[1;33m\u001b[0m\u001b[1;33m\u001b[0m\u001b[0m\n\u001b[1;32m--> 154\u001b[1;33m     \u001b[1;32mreturn\u001b[0m \u001b[0mnp\u001b[0m\u001b[1;33m.\u001b[0m\u001b[0mzeros\u001b[0m\u001b[1;33m(\u001b[0m\u001b[1;33m(\u001b[0m\u001b[0mheight\u001b[0m\u001b[1;33m,\u001b[0m \u001b[0mwidth\u001b[0m\u001b[1;33m,\u001b[0m \u001b[1;36m3\u001b[0m\u001b[1;33m)\u001b[0m\u001b[1;33m,\u001b[0m \u001b[0mnp\u001b[0m\u001b[1;33m.\u001b[0m\u001b[0muint8\u001b[0m\u001b[1;33m)\u001b[0m\u001b[1;33m\u001b[0m\u001b[1;33m\u001b[0m\u001b[0m\n\u001b[0m\u001b[0;32m    155\u001b[0m \u001b[1;33m\u001b[0m\u001b[0m\n\u001b[0;32m    156\u001b[0m \u001b[1;32mdef\u001b[0m \u001b[0mshowImage\u001b[0m\u001b[1;33m(\u001b[0m\u001b[0mimg\u001b[0m\u001b[1;33m)\u001b[0m\u001b[1;33m:\u001b[0m\u001b[1;33m\u001b[0m\u001b[1;33m\u001b[0m\u001b[0m\n",
      "\u001b[1;31mValueError\u001b[0m: negative dimensions are not allowed"
     ]
    }
   ],
   "source": [
    "print(\"Now Get Models Infomation..\")\n",
    "layers_number = (len(function.getLayersInfo(path)) - 1)\n",
    "img_w =  layers_number * 600\n",
    "print(img_w)\n",
    "img_h = img_w\n",
    "radius = 4\n",
    "\n",
    "print(\"Now Get Flatten, Dense and Dropout Layer\")\n",
    "data = function.getLayerList(path)\n",
    "\n",
    "print(\"Now Calculating Model Neurons Position\")\n",
    "data_allN = function.model_neurons_position(data)\n",
    "\n",
    "print(\"Now Get Layers Name\")\n",
    "model_layer = function.getLayersName(path)\n",
    "\n",
    "print(\"Now Make Blank Image\")\n",
    "img = function.getBlankImage(width=img_w, height=img_h)\n",
    "\n",
    "print(\"Now Get All Neurons Postion Value\")\n",
    "neuron_postion = function.getAllNeurons(img=img,\n",
    "                                        img_w=img_w,\n",
    "                                        img_h=img_h, \n",
    "                                        number_of_sction=layers_number,\n",
    "                                        data=data_allN)\n",
    "\n",
    "unpack_postion = [x for l in neuron_postion for x in l]\n",
    "\n",
    "print(\"Now Drawing Nerons\")\n",
    "img = function.drawingNerons(img=img, \n",
    "                             data=unpack_postion,\n",
    "                             radius=radius)\n",
    "\n",
    "print(\"Now Drawing Dense to Dense Line\")\n",
    "img = function.drawDenseLine(img=img, \n",
    "                             neuron_postion=neuron_postion, \n",
    "                             radius=radius, \n",
    "                             dense_list=data)\n",
    "\n",
    "print(\"Now Drawing Dense to Dropout Part\")\n",
    "img = function.drawDropoutLine(img=img, \n",
    "                               neuron_postion=neuron_postion, \n",
    "                               radius=radius, \n",
    "                               dense_list=data)\n",
    "\n",
    "print(\"Show the Result\")\n",
    "function.showImage(img)\n",
    "function.save(img, path[2:-3])"
   ]
  },
  {
   "cell_type": "code",
   "execution_count": null,
   "metadata": {},
   "outputs": [],
   "source": []
  }
 ],
 "metadata": {
  "kernelspec": {
   "display_name": "Python 3",
   "language": "python",
   "name": "python3"
  },
  "language_info": {
   "codemirror_mode": {
    "name": "ipython",
    "version": 3
   },
   "file_extension": ".py",
   "mimetype": "text/x-python",
   "name": "python",
   "nbconvert_exporter": "python",
   "pygments_lexer": "ipython3",
   "version": "3.7.5"
  }
 },
 "nbformat": 4,
 "nbformat_minor": 2
}
