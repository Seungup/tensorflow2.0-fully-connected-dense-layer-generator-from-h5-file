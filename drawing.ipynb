{
 "cells": [
  {
   "cell_type": "code",
   "execution_count": 8,
   "metadata": {},
   "outputs": [],
   "source": [
    "import function\n",
    "from pprint import pprint as pp"
   ]
  },
  {
   "cell_type": "code",
   "execution_count": 13,
   "metadata": {},
   "outputs": [],
   "source": [
    "path = './mnist_model.h5'\n",
    "\n",
    "model_name = function.getLayersName(path) \n",
    "model_config = function.getModelLayersConfigNormalization(path)"
   ]
  },
  {
   "cell_type": "code",
   "execution_count": 14,
   "metadata": {},
   "outputs": [
    {
     "data": {
      "text/plain": [
       "['Flatten', 'Dense', 'Dropout', 'Dense']"
      ]
     },
     "execution_count": 14,
     "metadata": {},
     "output_type": "execute_result"
    }
   ],
   "source": [
    "model_name"
   ]
  },
  {
   "cell_type": "code",
   "execution_count": 15,
   "metadata": {},
   "outputs": [
    {
     "name": "stdout",
     "output_type": "stream",
     "text": [
      "[('name', 'flatten'),\n",
      " ('trainable', True),\n",
      " ('batch_input_shape', (None, 28, 28)),\n",
      " ('dtype', 'float32'),\n",
      " ('data_format', 'channels_last')]\n",
      "\n",
      "[('name', 'dense'),\n",
      " ('trainable', True),\n",
      " ('dtype', 'float32'),\n",
      " ('units', 128),\n",
      " ('activation', 'relu'),\n",
      " ('use_bias', True),\n",
      " ('kernel_initializer',\n",
      "  {'class_name': 'GlorotUniform', 'config': {'seed': None}}),\n",
      " ('bias_initializer', {'class_name': 'Zeros', 'config': {}})]\n",
      "\n",
      "[('name', 'dropout'), ('trainable', True), ('dtype', 'float32'), ('rate', 0.2)]\n",
      "\n"
     ]
    }
   ],
   "source": [
    "pp(model_config[0])\n",
    "print(\"\")\n",
    "pp(model_config[1])\n",
    "print(\"\")\n",
    "pp(model_config[2])\n",
    "print(\"\")"
   ]
  },
  {
   "cell_type": "code",
   "execution_count": 16,
   "metadata": {},
   "outputs": [
    {
     "name": "stdout",
     "output_type": "stream",
     "text": [
      "Model: \"sequential\"\n",
      "_________________________________________________________________\n",
      "Layer (type)                 Output Shape              Param #   \n",
      "=================================================================\n",
      "flatten (Flatten)            (None, 784)               0         \n",
      "_________________________________________________________________\n",
      "dense (Dense)                (None, 128)               100480    \n",
      "_________________________________________________________________\n",
      "dropout (Dropout)            (None, 128)               0         \n",
      "_________________________________________________________________\n",
      "dense_1 (Dense)              (None, 10)                1290      \n",
      "=================================================================\n",
      "Total params: 101,770\n",
      "Trainable params: 101,770\n",
      "Non-trainable params: 0\n",
      "_________________________________________________________________\n"
     ]
    }
   ],
   "source": [
    "function.showModelSummary(path)"
   ]
  },
  {
   "cell_type": "code",
   "execution_count": null,
   "metadata": {},
   "outputs": [],
   "source": []
  }
 ],
 "metadata": {
  "kernelspec": {
   "display_name": "Python 3",
   "language": "python",
   "name": "python3"
  },
  "language_info": {
   "codemirror_mode": {
    "name": "ipython",
    "version": 3
   },
   "file_extension": ".py",
   "mimetype": "text/x-python",
   "name": "python",
   "nbconvert_exporter": "python",
   "pygments_lexer": "ipython3",
   "version": "3.7.5"
  }
 },
 "nbformat": 4,
 "nbformat_minor": 2
}
