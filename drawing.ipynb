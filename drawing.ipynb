{
 "cells": [
  {
   "cell_type": "code",
   "execution_count": 1,
   "metadata": {},
   "outputs": [],
   "source": [
    "import function"
   ]
  },
  {
   "cell_type": "code",
   "execution_count": 2,
   "metadata": {},
   "outputs": [],
   "source": [
    "path = './mnist_model.h5'\n",
    "\n",
    "model_name = function.getLayersName(path) \n",
    "model_config = function.getModelLayersConfigNormalization(path)"
   ]
  },
  {
   "cell_type": "code",
   "execution_count": 3,
   "metadata": {},
   "outputs": [
    {
     "data": {
      "text/plain": [
       "['Flatten', 'Dense', 'Dropout', 'Dense']"
      ]
     },
     "execution_count": 3,
     "metadata": {},
     "output_type": "execute_result"
    }
   ],
   "source": [
    "model_name"
   ]
  },
  {
   "cell_type": "code",
   "execution_count": 4,
   "metadata": {},
   "outputs": [
    {
     "data": {
      "text/plain": [
       "[[('name', 'flatten'),\n",
       "  ('trainable', True),\n",
       "  ('batch_input_shape', (None, 28, 28)),\n",
       "  ('dtype', 'float32'),\n",
       "  ('data_format', 'channels_last')],\n",
       " [('name', 'dense'),\n",
       "  ('trainable', True),\n",
       "  ('dtype', 'float32'),\n",
       "  ('units', 128),\n",
       "  ('activation', 'relu'),\n",
       "  ('use_bias', True),\n",
       "  ('kernel_initializer',\n",
       "   {'class_name': 'GlorotUniform', 'config': {'seed': None}}),\n",
       "  ('bias_initializer', {'class_name': 'Zeros', 'config': {}})],\n",
       " [('name', 'dropout'),\n",
       "  ('trainable', True),\n",
       "  ('dtype', 'float32'),\n",
       "  ('rate', 0.2)],\n",
       " [('name', 'dense_1'),\n",
       "  ('trainable', True),\n",
       "  ('dtype', 'float32'),\n",
       "  ('units', 10),\n",
       "  ('activation', 'softmax'),\n",
       "  ('use_bias', True),\n",
       "  ('kernel_initializer',\n",
       "   {'class_name': 'GlorotUniform', 'config': {'seed': None}}),\n",
       "  ('bias_initializer', {'class_name': 'Zeros', 'config': {}})]]"
      ]
     },
     "execution_count": 4,
     "metadata": {},
     "output_type": "execute_result"
    }
   ],
   "source": [
    "model_config"
   ]
  },
  {
   "cell_type": "code",
   "execution_count": 5,
   "metadata": {},
   "outputs": [
    {
     "name": "stdout",
     "output_type": "stream",
     "text": [
      "Model: \"sequential\"\n",
      "_________________________________________________________________\n",
      "Layer (type)                 Output Shape              Param #   \n",
      "=================================================================\n",
      "flatten (Flatten)            (None, 784)               0         \n",
      "_________________________________________________________________\n",
      "dense (Dense)                (None, 128)               100480    \n",
      "_________________________________________________________________\n",
      "dropout (Dropout)            (None, 128)               0         \n",
      "_________________________________________________________________\n",
      "dense_1 (Dense)              (None, 10)                1290      \n",
      "=================================================================\n",
      "Total params: 101,770\n",
      "Trainable params: 101,770\n",
      "Non-trainable params: 0\n",
      "_________________________________________________________________\n"
     ]
    }
   ],
   "source": [
    "function.showModelSummary(path)"
   ]
  }
 ],
 "metadata": {
  "kernelspec": {
   "display_name": "Python 3",
   "language": "python",
   "name": "python3"
  },
  "language_info": {
   "codemirror_mode": {
    "name": "ipython",
    "version": 3
   },
   "file_extension": ".py",
   "mimetype": "text/x-python",
   "name": "python",
   "nbconvert_exporter": "python",
   "pygments_lexer": "ipython3",
   "version": "3.7.5"
  }
 },
 "nbformat": 4,
 "nbformat_minor": 2
}
