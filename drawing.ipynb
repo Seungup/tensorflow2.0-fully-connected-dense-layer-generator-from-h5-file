{
 "cells": [
  {
   "cell_type": "code",
   "execution_count": 1,
   "metadata": {},
   "outputs": [],
   "source": [
    "import function\n",
    "from pprint import pprint as pp"
   ]
  },
  {
   "cell_type": "code",
   "execution_count": 2,
   "metadata": {},
   "outputs": [
    {
     "name": "stdout",
     "output_type": "stream",
     "text": [
      "[{'optimazier': 'Adam'},\n",
      " {'input_shape': (None, 28, 28),\n",
      "  'layer': 'Flatten',\n",
      "  'output_shape': 784,\n",
      "  'paragms': 0},\n",
      " {'layer': 'Dense', 'neruons': 128, 'paragms': 100480},\n",
      " {'layer': 'Dropout', 'paragms': 0, 'rate': 50.0},\n",
      " {'funtion': 'relu', 'layer': 'Activation', 'paragms': 0},\n",
      " {'layer': 'Dense', 'neruons': 128, 'paragms': 16512},\n",
      " {'layer': 'Dropout', 'paragms': 0, 'rate': 50.0},\n",
      " {'funtion': 'relu', 'layer': 'Activation', 'paragms': 0},\n",
      " {'layer': 'Dense', 'neruons': 10, 'paragms': 1290},\n",
      " {'funtion': 'softmax', 'layer': 'Activation', 'paragms': 0}]\n"
     ]
    }
   ],
   "source": [
    "path = './mnist_dropdout.h5'\n",
    "data = function.getLayersInfo(path)\n",
    "pp(data)"
   ]
  },
  {
   "cell_type": "code",
   "execution_count": 3,
   "metadata": {},
   "outputs": [
    {
     "name": "stdout",
     "output_type": "stream",
     "text": [
      "Optimazer : Adam\n",
      "\n",
      "Layer_0 | Name : Flatten\n",
      "Layer_0 | input_shape : (None, 28, 28)\n",
      "Layer_0 | output_shape : 784\n",
      "Layer_0 | Paragms : 0\n",
      "\n",
      "Layer_1 | Name : Dense\n",
      "Layer_1 | Neurons : 128\n",
      "Layer_1 | Paragms : 100480\n",
      "\n",
      "Layer_2 | Name : Dropout\n",
      "Layer_2 | Rate : 50.0%\n",
      "Layer_2 | Paragms : 0\n",
      "\n",
      "Layer_3 | Name : Activation\n",
      "Layer_3 | Funtion : relu\n",
      "Layer_3 | Paragms : 0\n",
      "\n",
      "Layer_4 | Name : Dense\n",
      "Layer_4 | Neurons : 128\n",
      "Layer_4 | Paragms : 16512\n",
      "\n",
      "Layer_5 | Name : Dropout\n",
      "Layer_5 | Rate : 50.0%\n",
      "Layer_5 | Paragms : 0\n",
      "\n",
      "Layer_6 | Name : Activation\n",
      "Layer_6 | Funtion : relu\n",
      "Layer_6 | Paragms : 0\n",
      "\n",
      "Layer_7 | Name : Dense\n",
      "Layer_7 | Neurons : 10\n",
      "Layer_7 | Paragms : 1290\n",
      "\n",
      "Layer_8 | Name : Activation\n",
      "Layer_8 | Funtion : softmax\n",
      "Layer_8 | Paragms : 0\n",
      "\n"
     ]
    }
   ],
   "source": [
    "function.printLayer(path)"
   ]
  },
  {
   "cell_type": "code",
   "execution_count": 4,
   "metadata": {},
   "outputs": [
    {
     "name": "stdout",
     "output_type": "stream",
     "text": [
      "[{'optimazier': 'Adam'},\n",
      " {'input_shape': (None, 28, 28),\n",
      "  'layer': 'Flatten',\n",
      "  'output_shape': 784,\n",
      "  'paragms': 0},\n",
      " {'layer': 'Dense', 'neruons': 128, 'paragms': 100480},\n",
      " {'layer': 'Dropout', 'paragms': 0, 'rate': 20.0},\n",
      " {'layer': 'Dense', 'neruons': 10, 'paragms': 1290}]\n"
     ]
    }
   ],
   "source": [
    "new_path = './mnist.h5'\n",
    "new_data = function.getLayersInfo(new_path)\n",
    "pp(new_data)"
   ]
  },
  {
   "cell_type": "code",
   "execution_count": 5,
   "metadata": {},
   "outputs": [
    {
     "name": "stdout",
     "output_type": "stream",
     "text": [
      "Optimazer : Adam\n",
      "\n",
      "Layer_0 | Name : Flatten\n",
      "Layer_0 | input_shape : (None, 28, 28)\n",
      "Layer_0 | output_shape : 784\n",
      "Layer_0 | Paragms : 0\n",
      "\n",
      "Layer_1 | Name : Dense\n",
      "Layer_1 | Neurons : 128\n",
      "Layer_1 | Paragms : 100480\n",
      "\n",
      "Layer_2 | Name : Dropout\n",
      "Layer_2 | Rate : 20.0%\n",
      "Layer_2 | Paragms : 0\n",
      "\n",
      "Layer_3 | Name : Dense\n",
      "Layer_3 | Neurons : 10\n",
      "Layer_3 | Paragms : 1290\n",
      "\n"
     ]
    }
   ],
   "source": [
    "function.printLayer(new_path)"
   ]
  }
 ],
 "metadata": {
  "kernelspec": {
   "display_name": "Python 3",
   "language": "python",
   "name": "python3"
  },
  "language_info": {
   "codemirror_mode": {
    "name": "ipython",
    "version": 3
   },
   "file_extension": ".py",
   "mimetype": "text/x-python",
   "name": "python",
   "nbconvert_exporter": "python",
   "pygments_lexer": "ipython3",
   "version": "3.7.5"
  }
 },
 "nbformat": 4,
 "nbformat_minor": 2
}
